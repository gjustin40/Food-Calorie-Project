{
 "cells": [
  {
   "cell_type": "code",
   "execution_count": 49,
   "metadata": {
    "scrolled": true
   },
   "outputs": [
    {
     "name": "stdout",
     "output_type": "stream",
     "text": [
      "0\n",
      "10\n",
      "11\n",
      "12\n",
      "13\n",
      "14\n",
      "15\n",
      "16\n",
      "1\n",
      "2\n",
      "3\n",
      "4\n",
      "5\n",
      "6\n",
      "C:\\Users\\gjust\\Documents\\Github\\data\\caffe_drinks\\detection\\6_caffe_mocha\\caffe_mocha335.txt 17 총1개 중\n",
      "7\n",
      "8\n",
      "9\n"
     ]
    }
   ],
   "source": [
    "import glob\n",
    "import os\n",
    "\n",
    "data_path = r'C:\\Users\\gjust\\Documents\\Github\\data\\caffe_drinks\\detection'\n",
    "drinks_path = glob.glob(data_path + '/*')\n",
    "\n",
    "for drink_path in drinks_path:\n",
    "    targets = glob.glob(drink_path + '/*.txt')\n",
    "    cls_idx = drink_path.split('\\\\')[-1].split('_')[0]\n",
    "    print(cls_idx)\n",
    "    for target in targets:\n",
    "        idx_list = []\n",
    "        with open(target) as f:\n",
    "            lines = f.readlines()\n",
    "            for line in lines:\n",
    "                idx = line.split()[0]\n",
    "\n",
    "                if cls_idx != idx:\n",
    "                    if len(lines) == 1:\n",
    "                        print(target, idx, '총%d개 중' %len(lines))"
   ]
  },
  {
   "cell_type": "code",
   "execution_count": 51,
   "metadata": {},
   "outputs": [
    {
     "name": "stdout",
     "output_type": "stream",
     "text": [
      "없음\n",
      "없음\n",
      "없음\n",
      "없음\n",
      "없음\n",
      "없음\n",
      "없음\n",
      "없음\n",
      "없음\n",
      "없음\n",
      "없음\n",
      "없음\n",
      "없음\n",
      "없음\n",
      "없음\n",
      "없음\n",
      "없음\n"
     ]
    }
   ],
   "source": [
    "data_path = r'C:\\Users\\gjust\\Documents\\Github\\data\\caffe_drinks\\detection'\n",
    "drinks_path = glob.glob(data_path + '/*')\n",
    "\n",
    "train_path = r'C:\\Users\\gjust\\Documents\\Github\\data\\caffe_drinks\\custom\\train'\n",
    "val_path = r'C:\\Users\\gjust\\Documents\\Github\\data\\caffe_drinks\\custom\\val'\n",
    "\n",
    "for drink_path in drinks_path:\n",
    "    \n",
    "        file_list = glob.glob(f'{drink_path}/*.jpg')\n",
    "        file_name_list = []\n",
    "        for file in file_list:\n",
    "            file_name = file.split('\\\\')[-1].split('.')[0]\n",
    "            file_name_list.append(file_name)\n",
    "\n",
    "        split = int(len(file_name_list)*0.8)\n",
    "\n",
    "        train_name_list = file_name_list[:split]\n",
    "        val_name_list = file_name_list[split:]\n",
    "        \n",
    "        \n",
    "        for train_name in train_name_list:\n",
    "            ㅅ\n",
    "            os.rename(f'{drink_path}/{train_name}.jpg', f'{train_path}/{train_name}.jpg')\n",
    "            os.rename(f'{drink_path}/{train_name}.txt', f'{train_path}/{train_name}.txt')\n",
    "\n",
    "        for val_name in val_name_list:\n",
    "            os.rename(f'{drink_path}/{val_name}.jpg', f'{val_path}/{val_name}.jpg')\n",
    "            os.rename(f'{drink_path}/{val_name}.txt', f'{val_path}/{val_name}.txt')\n",
    "            \n",
    "    except:\n",
    "        print('없음')"
   ]
  },
  {
   "cell_type": "code",
   "execution_count": 42,
   "metadata": {},
   "outputs": [
    {
     "data": {
      "text/plain": [
       "'C:\\\\Users\\\\gjust\\\\Documents\\\\Github\\\\data\\\\caffe_drinks\\\\detection\\\\9_frappuccino_javachip'"
      ]
     },
     "execution_count": 42,
     "metadata": {},
     "output_type": "execute_result"
    }
   ],
   "source": [
    "drink_path"
   ]
  },
  {
   "cell_type": "code",
   "execution_count": 26,
   "metadata": {},
   "outputs": [
    {
     "data": {
      "text/plain": [
       "['0_latte_st',\n",
       " '10_bubbletea_blacksugar',\n",
       " '11_cappuccino',\n",
       " '12_caramel_macchiato',\n",
       " '13_grape_juice',\n",
       " '14_mango_juice',\n",
       " '15_latte_caffe',\n",
       " '16_shake_choco',\n",
       " '1_tomato_juice',\n",
       " '2_latte_goguma',\n",
       " '3_americano',\n",
       " '4_latte_greentea',\n",
       " '5_latte_vanilla',\n",
       " '6_caffe_mocha',\n",
       " '7_frappuccino_greentea',\n",
       " '8_hongsi_juice',\n",
       " '9_frappuccino_javachip']"
      ]
     },
     "execution_count": 26,
     "metadata": {},
     "output_type": "execute_result"
    }
   ],
   "source": [
    "os.listdir(data_path)"
   ]
  },
  {
   "cell_type": "code",
   "execution_count": null,
   "metadata": {},
   "outputs": [],
   "source": []
  }
 ],
 "metadata": {
  "kernelspec": {
   "display_name": "Python 3",
   "language": "python",
   "name": "python3"
  },
  "language_info": {
   "codemirror_mode": {
    "name": "ipython",
    "version": 3
   },
   "file_extension": ".py",
   "mimetype": "text/x-python",
   "name": "python",
   "nbconvert_exporter": "python",
   "pygments_lexer": "ipython3",
   "version": "3.8.5"
  }
 },
 "nbformat": 4,
 "nbformat_minor": 4
}
