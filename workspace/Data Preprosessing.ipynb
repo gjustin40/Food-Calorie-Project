{
 "cells": [
  {
   "cell_type": "code",
   "execution_count": 19,
   "metadata": {},
   "outputs": [],
   "source": [
    "import glob\n",
    "\n",
    "data_path = r'Z:\\AI\\photo\\after\\3_americano'"
   ]
  },
  {
   "cell_type": "code",
   "execution_count": 20,
   "metadata": {},
   "outputs": [
    {
     "data": {
      "text/plain": [
       "1838"
      ]
     },
     "execution_count": 20,
     "metadata": {},
     "output_type": "execute_result"
    }
   ],
   "source": [
    "label_path_list = glob.glob(data_path + '/*.txt')\n",
    "len(label_path_list)"
   ]
  },
  {
   "cell_type": "code",
   "execution_count": 21,
   "metadata": {},
   "outputs": [],
   "source": [
    "for label_path in label_path_list:\n",
    "    with open(label_path) as txt:\n",
    "        labels = txt.readlines()\n",
    "        \n",
    "        if len(labels) == 0:\n",
    "            print(label_path)"
   ]
  },
  {
   "cell_type": "code",
   "execution_count": null,
   "metadata": {},
   "outputs": [],
   "source": []
  },
  {
   "cell_type": "code",
   "execution_count": 17,
   "metadata": {},
   "outputs": [
    {
     "data": {
      "text/plain": [
       "<function TextIOWrapper.readline(size=-1, /)>"
      ]
     },
     "execution_count": 17,
     "metadata": {},
     "output_type": "execute_result"
    }
   ],
   "source": [
    "txt.readline"
   ]
  },
  {
   "cell_type": "code",
   "execution_count": null,
   "metadata": {},
   "outputs": [],
   "source": [
    "for label in label_list:\n",
    "    with open(label)"
   ]
  },
  {
   "cell_type": "code",
   "execution_count": 61,
   "metadata": {},
   "outputs": [
    {
     "name": "stdout",
     "output_type": "stream",
     "text": [
      "C:\\Users\\gjust\\Documents\\deeplearning\\custom/val\\latte_greentea96.txt\n",
      "C:\\Users\\gjust\\Documents\\deeplearning\\custom/val\\latte_greentea96.txt\n",
      "C:\\Users\\gjust\\Documents\\deeplearning\\custom/val\\latte_greentea96.txt\n"
     ]
    }
   ],
   "source": [
    "train_val = ['train', 'val']\n",
    "class_list = []\n",
    "for t in train_val:\n",
    "    txt_list = glob.glob(data_path + '/' + t + '/*.txt')\n",
    "    for txt in txt_list:\n",
    "        with open(txt) as f:\n",
    "            lines = f.readlines()\n",
    "            for line in lines:\n",
    "                cls_id = int(line.split()[0])\n",
    "                if cls_id == 19:\n",
    "                    print(txt)"
   ]
  }
 ],
 "metadata": {
  "kernelspec": {
   "display_name": "Python 3",
   "language": "python",
   "name": "python3"
  },
  "language_info": {
   "codemirror_mode": {
    "name": "ipython",
    "version": 3
   },
   "file_extension": ".py",
   "mimetype": "text/x-python",
   "name": "python",
   "nbconvert_exporter": "python",
   "pygments_lexer": "ipython3",
   "version": "3.8.5"
  }
 },
 "nbformat": 4,
 "nbformat_minor": 4
}
